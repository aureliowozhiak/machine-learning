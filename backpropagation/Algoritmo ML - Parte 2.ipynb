{
 "cells": [
  {
   "cell_type": "markdown",
   "metadata": {},
   "source": [
    "# <font color='blue'>Data Science Academy - Matemática Para Machine Learning</font>"
   ]
  },
  {
   "cell_type": "markdown",
   "metadata": {},
   "source": [
    "## Estudo de Caso 5 - Compreendendo Como Funciona o Backpropagation"
   ]
  },
  {
   "cell_type": "markdown",
   "metadata": {},
   "source": [
    "## Parte 2 - Compreendendo o Backpropagation"
   ]
  },
  {
   "cell_type": "code",
   "execution_count": 1,
   "metadata": {},
   "outputs": [
    {
     "data": {
      "text/html": [
       "<img src=\"imagens/Neuronio01.png\"/>"
      ],
      "text/plain": [
       "<IPython.core.display.Image object>"
      ]
     },
     "execution_count": 1,
     "metadata": {},
     "output_type": "execute_result"
    }
   ],
   "source": [
    "from IPython.display import Image\n",
    "Image(url = 'imagens/Neuronio01.png')"
   ]
  },
  {
   "cell_type": "code",
   "execution_count": 2,
   "metadata": {},
   "outputs": [
    {
     "data": {
      "text/html": [
       "<img src=\"imagens/Neuronio02.png\"/>"
      ],
      "text/plain": [
       "<IPython.core.display.Image object>"
      ]
     },
     "execution_count": 2,
     "metadata": {},
     "output_type": "execute_result"
    }
   ],
   "source": [
    "from IPython.display import Image\n",
    "Image(url = 'imagens/Neuronio02.png')"
   ]
  },
  {
   "cell_type": "code",
   "execution_count": 3,
   "metadata": {},
   "outputs": [
    {
     "data": {
      "text/html": [
       "<img src=\"imagens/MLP06-01.png\"/>"
      ],
      "text/plain": [
       "<IPython.core.display.Image object>"
      ]
     },
     "execution_count": 3,
     "metadata": {},
     "output_type": "execute_result"
    }
   ],
   "source": [
    "from IPython.display import Image\n",
    "Image(url = 'imagens/MLP06-01.png')"
   ]
  },
  {
   "cell_type": "markdown",
   "metadata": {},
   "source": [
    "### Propagação Para Frente\n",
    "\n",
    "Temos uma rede neural feed-forward totalmente conectada. Tem L camadas (pode ser qualquer número) e qualquer número de neurônios em cada camada. As ativações dos neurônios na camada l são armazenadas em um vetor-coluna de ativações aˡ, onde o índice sobrescrito indica a camada. As conexões dos neurônios na camada l-1 para a camada l são armazenadas em uma matriz de peso Wˡ e os vieses (bias) para cada neurônio são armazenados em um vetor-coluna bˡ.\n",
    "\n",
    "Para um simples passe para frente, temos que:"
   ]
  },
  {
   "cell_type": "code",
   "execution_count": 4,
   "metadata": {},
   "outputs": [
    {
     "data": {
      "text/html": [
       "<img src=\"imagens/forward.png\"/>"
      ],
      "text/plain": [
       "<IPython.core.display.Image object>"
      ]
     },
     "execution_count": 4,
     "metadata": {},
     "output_type": "execute_result"
    }
   ],
   "source": [
    "from IPython.display import Image\n",
    "Image(url = 'imagens/forward.png')"
   ]
  },
  {
   "cell_type": "markdown",
   "metadata": {},
   "source": [
    "As multiplicações de matrizes nesta fórmula são visualizadas na figura abaixo, onde introduzimos um novo vetor zˡ. que é a ativação sem a aplicação de uma função de transferência de componentes, de modo que aˡ = σ (zˡ). Eu chamarei este valor de “soma de entrada” de um neurônio."
   ]
  },
  {
   "cell_type": "code",
   "execution_count": 5,
   "metadata": {},
   "outputs": [
    {
     "data": {
      "text/html": [
       "<img src=\"imagens/math-ops.png\"/>"
      ],
      "text/plain": [
       "<IPython.core.display.Image object>"
      ]
     },
     "execution_count": 5,
     "metadata": {},
     "output_type": "execute_result"
    }
   ],
   "source": [
    "from IPython.display import Image\n",
    "Image(url = 'imagens/math-ops.png')"
   ]
  },
  {
   "cell_type": "markdown",
   "metadata": {},
   "source": [
    "A rede inteira é mostrada abaixo, do vetor de entrada x, ao vetor de ativação de saída aᴸ. As conexões que levam a um neurônio específico são mostradas em cores em duas camadas:"
   ]
  },
  {
   "cell_type": "code",
   "execution_count": 6,
   "metadata": {},
   "outputs": [
    {
     "data": {
      "text/html": [
       "<img src=\"imagens/rede.png\"/>"
      ],
      "text/plain": [
       "<IPython.core.display.Image object>"
      ]
     },
     "execution_count": 6,
     "metadata": {},
     "output_type": "execute_result"
    }
   ],
   "source": [
    "from IPython.display import Image\n",
    "Image(url = 'imagens/rede.png')"
   ]
  },
  {
   "cell_type": "markdown",
   "metadata": {},
   "source": [
    "Uma coisa que podemos fazer é escrever o cálculo da rede em uma expressão matemática. Vamos anotar a fórmula para calcular o elemento n do vetor de saída na camada final:"
   ]
  },
  {
   "cell_type": "code",
   "execution_count": 7,
   "metadata": {},
   "outputs": [
    {
     "data": {
      "text/html": [
       "<img src=\"imagens/form.gif\"/>"
      ],
      "text/plain": [
       "<IPython.core.display.Image object>"
      ]
     },
     "execution_count": 7,
     "metadata": {},
     "output_type": "execute_result"
    }
   ],
   "source": [
    "from IPython.display import Image\n",
    "Image(url = 'imagens/form.gif')"
   ]
  },
  {
   "cell_type": "markdown",
   "metadata": {},
   "source": [
    "Aqui nós introduzimos uma nova notação onde wˡᵤᵥ está indicando a conexão do neurônio na camada l-1 ao neurônio na camada l, e bˡᵤ é o bias do neurônio na camada l. A expressão pode ser um pouco confusa, principalmente por causa de todos os novos índices. Mas a maior diferença disso é que a rede neural é apenas uma função matemática. E esta função pode ser derivada em relação a qualquer variável. Usaremos nossa notação recém-introduzida para definir uma função de erro ou a função \"custo\" C usando uma amostra de nossos dados de treinamento e, em seguida, veremos como o erro muda à medida que mudamos nossos pesos."
   ]
  },
  {
   "cell_type": "markdown",
   "metadata": {},
   "source": [
    "### Derivando o erro\n",
    "\n",
    "Três camadas adjacentes em qualquer lugar da rede são mostradas na figura abaixo, a letra de índice para os neurônios nas camadas são j, k e m, respectivamente, e a letra de índice para a camada é l."
   ]
  },
  {
   "cell_type": "code",
   "execution_count": 8,
   "metadata": {},
   "outputs": [
    {
     "data": {
      "text/html": [
       "<img src=\"imagens/derivation.png\"/>"
      ],
      "text/plain": [
       "<IPython.core.display.Image object>"
      ]
     },
     "execution_count": 8,
     "metadata": {},
     "output_type": "execute_result"
    }
   ],
   "source": [
    "from IPython.display import Image\n",
    "Image(url = 'imagens/derivation.png')"
   ]
  },
  {
   "cell_type": "markdown",
   "metadata": {},
   "source": [
    "Primeiro calculamos a soma de entrada de um neurônio k na camada l:"
   ]
  },
  {
   "cell_type": "code",
   "execution_count": 9,
   "metadata": {},
   "outputs": [
    {
     "data": {
      "text/html": [
       "<img src=\"imagens/form1.gif\"/>"
      ],
      "text/plain": [
       "<IPython.core.display.Image object>"
      ]
     },
     "execution_count": 9,
     "metadata": {},
     "output_type": "execute_result"
    }
   ],
   "source": [
    "from IPython.display import Image\n",
    "Image(url = 'imagens/form1.gif')"
   ]
  },
  {
   "cell_type": "markdown",
   "metadata": {},
   "source": [
    "Então definimos a função de transferência, poderia ser qualquer função com uma primeira derivada:"
   ]
  },
  {
   "cell_type": "code",
   "execution_count": 10,
   "metadata": {},
   "outputs": [
    {
     "data": {
      "text/html": [
       "<img src=\"imagens/form2.gif\"/>"
      ],
      "text/plain": [
       "<IPython.core.display.Image object>"
      ]
     },
     "execution_count": 10,
     "metadata": {},
     "output_type": "execute_result"
    }
   ],
   "source": [
    "from IPython.display import Image\n",
    "Image(url = 'imagens/form2.gif')"
   ]
  },
  {
   "cell_type": "markdown",
   "metadata": {},
   "source": [
    "Agora, finalmente, calculamos a soma de entrada de um neurônio m na camada l + 1."
   ]
  },
  {
   "cell_type": "code",
   "execution_count": 11,
   "metadata": {},
   "outputs": [
    {
     "data": {
      "text/html": [
       "<img src=\"imagens/form3.gif\"/>"
      ],
      "text/plain": [
       "<IPython.core.display.Image object>"
      ]
     },
     "execution_count": 11,
     "metadata": {},
     "output_type": "execute_result"
    }
   ],
   "source": [
    "from IPython.display import Image\n",
    "Image(url = 'imagens/form3.gif')"
   ]
  },
  {
   "cell_type": "markdown",
   "metadata": {},
   "source": [
    "Aqui, avançamos um passo nas camadas, desde as ativações na camada l-1 até as somas de entrada dos neurônios na camada l + 1. Uma função de erro C é definida usando um exemplo de nossos dados de treinamento e sua derivada é calculada com relação a um único peso na camada l."
   ]
  },
  {
   "cell_type": "code",
   "execution_count": 12,
   "metadata": {},
   "outputs": [
    {
     "data": {
      "text/html": [
       "<img src=\"imagens/form4.gif\"/>"
      ],
      "text/plain": [
       "<IPython.core.display.Image object>"
      ]
     },
     "execution_count": 12,
     "metadata": {},
     "output_type": "execute_result"
    }
   ],
   "source": [
    "from IPython.display import Image\n",
    "Image(url = 'imagens/form4.gif')"
   ]
  },
  {
   "cell_type": "markdown",
   "metadata": {},
   "source": [
    "Você pode notar a soma na expressão acima, é devido à regra da cadeia (chain rule), todas as contribuições dos neurônios na camada l + 1 devem ser contabilizadas desde que seu valor está afetando o erro final (seu valor depende do peso que estamos tomando a derivada em relação a isso). Isso é visualizado na figura mostrada acima.\n",
    "\n",
    "Uma coisa importante a lembrar é que nós fixamos k e j, portanto, vemos apenas como o erro muda quando um único peso é manipulado no cálculo. Todos os outros pesos são mantidos constantes e a derivada de uma constante é simplesmente zero. Mas o índice m na camada l + 1 não é fixo, a ativação de todos os neurônios nessa camada é alterada à medida que mudamos nosso peso especificado."
   ]
  },
  {
   "cell_type": "markdown",
   "metadata": {},
   "source": [
    "### Sinal de erro\n",
    "\n",
    "Agora vamos fazer uma definição, o \"sinal de erro\" de um neurônio k na camada l como quanto o erro total muda quando a soma de entrada do neurônio é alterada:"
   ]
  },
  {
   "cell_type": "code",
   "execution_count": 13,
   "metadata": {},
   "outputs": [
    {
     "data": {
      "text/html": [
       "<img src=\"imagens/form5.gif\"/>"
      ],
      "text/plain": [
       "<IPython.core.display.Image object>"
      ]
     },
     "execution_count": 13,
     "metadata": {},
     "output_type": "execute_result"
    }
   ],
   "source": [
    "from IPython.display import Image\n",
    "Image(url = 'imagens/form5.gif')"
   ]
  },
  {
   "cell_type": "markdown",
   "metadata": {},
   "source": [
    "Então, todo neurônio em toda a rede agora tem um sinal de erro definido. Mas se você olhar a equação acima, verá que já expandimos essa expressão:"
   ]
  },
  {
   "cell_type": "code",
   "execution_count": 14,
   "metadata": {},
   "outputs": [
    {
     "data": {
      "text/html": [
       "<img src=\"imagens/form6.gif\"/>"
      ],
      "text/plain": [
       "<IPython.core.display.Image object>"
      ]
     },
     "execution_count": 14,
     "metadata": {},
     "output_type": "execute_result"
    }
   ],
   "source": [
    "from IPython.display import Image\n",
    "Image(url = 'imagens/form6.gif')"
   ]
  },
  {
   "cell_type": "markdown",
   "metadata": {},
   "source": [
    "Portanto, temos uma fórmula recursiva para os sinais de erro, usando nossas definições:"
   ]
  },
  {
   "cell_type": "code",
   "execution_count": 15,
   "metadata": {},
   "outputs": [
    {
     "data": {
      "text/html": [
       "<img src=\"imagens/form7.gif\"/>"
      ],
      "text/plain": [
       "<IPython.core.display.Image object>"
      ]
     },
     "execution_count": 15,
     "metadata": {},
     "output_type": "execute_result"
    }
   ],
   "source": [
    "from IPython.display import Image\n",
    "Image(url = 'imagens/form7.gif')"
   ]
  },
  {
   "cell_type": "markdown",
   "metadata": {},
   "source": [
    "Você pode se perguntar o que aconteceu com os vieses, eles também são \"pesos\" e a função de erro deve ser derivada com relação a eles também."
   ]
  },
  {
   "cell_type": "code",
   "execution_count": 16,
   "metadata": {},
   "outputs": [
    {
     "data": {
      "text/html": [
       "<img src=\"imagens/form8.gif\"/>"
      ],
      "text/plain": [
       "<IPython.core.display.Image object>"
      ]
     },
     "execution_count": 16,
     "metadata": {},
     "output_type": "execute_result"
    }
   ],
   "source": [
    "from IPython.display import Image\n",
    "Image(url = 'imagens/form8.gif')"
   ]
  },
  {
   "cell_type": "markdown",
   "metadata": {},
   "source": [
    "Portanto, o gradiente da função custo em relação ao viés de cada neurônio é simplesmente o sinal de erro!"
   ]
  },
  {
   "cell_type": "markdown",
   "metadata": {},
   "source": [
    "### Propagando para trás\n",
    "\n",
    "Para usar esta fórmula recursiva, precisamos obter o primeiro sinal de erro na série, ou seja, o sinal de erro dos neurônios na camada final L. Esse é o valor inicial, e podemos “propagar” para trás calculando todos os sinais de erro."
   ]
  },
  {
   "cell_type": "code",
   "execution_count": 17,
   "metadata": {},
   "outputs": [
    {
     "data": {
      "text/html": [
       "<img src=\"imagens/form9.gif\"/>"
      ],
      "text/plain": [
       "<IPython.core.display.Image object>"
      ]
     },
     "execution_count": 17,
     "metadata": {},
     "output_type": "execute_result"
    }
   ],
   "source": [
    "from IPython.display import Image\n",
    "Image(url = 'imagens/form9.gif')"
   ]
  },
  {
   "cell_type": "markdown",
   "metadata": {},
   "source": [
    "A única derivada que deve ser calculada aqui é a derivada da função custo em relação às ativações da última camada, que é a saída da rede. Então, isso dependerá da função de erro que escolhermos."
   ]
  },
  {
   "cell_type": "markdown",
   "metadata": {},
   "source": [
    "### Forma matricial\n",
    "\n",
    "Como agora podemos calcular recursivamente todos os sinais de erro para todos os neurônios da rede, é possível obter a derivada da função custo em relação a todos os pesos. O treinamento é feito subtraindo de cada peso uma pequena fração de sua derivada correspondente, chamada de regra delta. Desde que tudo é conhecido, a rede é treinável! Mas gostaríamos de uma notação mais eficiente, uma vez que anteriormente trabalhamos apenas com escalares. A notação vetorial e de matriz resolve esta questão! Lembre-se que armazenamos todos os pesos para a camada l em uma matriz Wˡ, onde os pesos que se conectam de todos os neurônios em l-1 a ​​um neurônio em l são armazenados como linhas.\n",
    "\n",
    "Agora usamos a matriz de peso, e calculamos sua transposta. Isso significa que as conexões aos neurônios na camada são armazenadas como colunas. Coloque todos os sinais de erro da camada em um vetor-coluna e multiplique-a com a matriz de peso transposta. "
   ]
  },
  {
   "cell_type": "code",
   "execution_count": 18,
   "metadata": {},
   "outputs": [
    {
     "data": {
      "text/html": [
       "<img src=\"imagens/form10.gif\"/>"
      ],
      "text/plain": [
       "<IPython.core.display.Image object>"
      ]
     },
     "execution_count": 18,
     "metadata": {},
     "output_type": "execute_result"
    }
   ],
   "source": [
    "from IPython.display import Image\n",
    "Image(url = 'imagens/form10.gif')"
   ]
  },
  {
   "cell_type": "markdown",
   "metadata": {},
   "source": [
    "O sinal de similaridade é porque nos falta a multiplicação da derivada da soma de entrada na camada l. Certifique-se de entender essa multiplicação de matriz, use um papel para esboçar os cálculos, se possível.\n",
    "\n",
    "Finalmente, usando tudo o que derivamos anteriormente, podemos declarar fórmulas para calcular o gradiente da função custo em relação aos pesos da seguinte forma:"
   ]
  },
  {
   "cell_type": "code",
   "execution_count": 19,
   "metadata": {},
   "outputs": [
    {
     "data": {
      "text/html": [
       "<img src=\"imagens/form11.gif\"/>"
      ],
      "text/plain": [
       "<IPython.core.display.Image object>"
      ]
     },
     "execution_count": 19,
     "metadata": {},
     "output_type": "execute_result"
    }
   ],
   "source": [
    "from IPython.display import Image\n",
    "Image(url = 'imagens/form11.gif')"
   ]
  },
  {
   "cell_type": "markdown",
   "metadata": {},
   "source": [
    "O símbolo nabla é a derivada em relação às variáveis de saída da camada final, e o ponto com um círculo indica a multiplicação por componentes."
   ]
  },
  {
   "cell_type": "markdown",
   "metadata": {},
   "source": [
    "### Esboço do algoritmo de treinamento\n",
    "\n",
    "Usando essas fórmulas, podemos efetivamente escrever um algoritmo para treinar a rede, usando uma única amostra de treinamento de cada vez.\n",
    "\n",
    "1. Faça a propagação para a frente, calcule a soma de entrada e ativação de cada neurônio por multiplicação iterativa matricial-vetorial e inclua a função de transferência em operações componente-wise de todos os neurônios em cada camada. Salve os resultados para mais tarde.\n",
    "\n",
    "\n",
    "2. Calcule o sinal de erro da camada final L, obtendo o gradiente da função custo em relação às saídas da rede. Essa expressão dependerá da amostra de treinamento atual (entrada e saída), bem como da função de custo escolhida.\n",
    "\n",
    "\n",
    "3. Faça a propagação inversa, calcule os sinais de erro dos neurônios em cada camada. A soma de entrada de cada neurônio é necessária para isso, e também é feita computando iterativamente as multiplicações vetoriais de matriz (veja a fórmula acima).\n",
    "\n",
    "\n",
    "4. Calcule a derivada da função custo em relação aos pesos, a ativação de cada neurônio é necessária para isso (veja a fórmula acima). Esta será uma matriz com a mesma forma que a matriz de peso.\n",
    "\n",
    "\n",
    "5. Calcule a derivada da função custo em relação aos vieses (veja a fórmula acima). Este será apenas um vetor de coluna.\n",
    "\n",
    "\n",
    "6. Atualize os pesos de acordo com a regra delta."
   ]
  },
  {
   "cell_type": "markdown",
   "metadata": {},
   "source": [
    "## Fim"
   ]
  }
 ],
 "metadata": {
  "kernelspec": {
   "display_name": "Python 3",
   "language": "python",
   "name": "python3"
  },
  "language_info": {
   "codemirror_mode": {
    "name": "ipython",
    "version": 3
   },
   "file_extension": ".py",
   "mimetype": "text/x-python",
   "name": "python",
   "nbconvert_exporter": "python",
   "pygments_lexer": "ipython3",
   "version": "3.8.3"
  }
 },
 "nbformat": 4,
 "nbformat_minor": 2
}
